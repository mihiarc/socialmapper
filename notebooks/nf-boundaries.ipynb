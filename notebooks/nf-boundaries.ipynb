{
 "cells": [
  {
   "cell_type": "code",
   "execution_count": 2,
   "metadata": {},
   "outputs": [],
   "source": [
    "import geopandas as gpd\n",
    "import folium\n",
    "\n",
    "# Load the shapefiles\n",
    "shapefile_path = '/Users/mihiarc/Work/data/spatial-boundaries/nfs-layers/'\n",
    "nfs_gdf = gpd.read_file(shapefile_path + 'FS Timber Appraisal Zones/S_USA.Com_TimberAppraisalZone.shp')\n",
    "nfs_gdf_cflr = gpd.read_file(shapefile_path + 'FS CFLR Program/S_USA.Activity_CFLRP_PL.shp')\n"
   ]
  },
  {
   "cell_type": "code",
   "execution_count": 3,
   "metadata": {},
   "outputs": [],
   "source": [
    "# save the attribute tables to csv files\n",
    "nfs_gdf.to_csv(shapefile_path + 'nfs_timber_appraisal_zones.csv')\n",
    "nfs_gdf_cflr.to_csv(shapefile_path + 'nfs_cflr_program.csv')"
   ]
  },
  {
   "cell_type": "code",
   "execution_count": 4,
   "metadata": {},
   "outputs": [],
   "source": [
    "# reproject to projected coordinate system\n",
    "nfs_gdf = nfs_gdf.to_crs(epsg=3857)\n",
    "nfs_gdf_cflr = nfs_gdf_cflr.to_crs(epsg=3857)"
   ]
  },
  {
   "cell_type": "code",
   "execution_count": 6,
   "metadata": {},
   "outputs": [],
   "source": [
    "# Create a base map centered on the coterminous US\n",
    "m = folium.Map(location=[37.0902, -95.7129], zoom_start=4)\n",
    "# add tooltip for forest name and appriasal zone number\n",
    "nfs_gdf['Appraisal Zone'] = nfs_gdf['APPRAISALZ']\n",
    "# Add the polygons to the map\n",
    "folium.GeoJson(nfs_gdf).add_to(m)\n",
    "# add the tooltip to the map\n",
    "folium.GeoJson(nfs_gdf, tooltip=folium.features.GeoJsonTooltip(fields=['Appraisal Zone'])).add_to(m)\n",
    "# save the map\n",
    "m.save('/Users/mihiarc/Work/data/spatial-boundaries/nfs-layers/nfs_timber_appraisal_zones.html')"
   ]
  }
 ],
 "metadata": {
  "kernelspec": {
   "display_name": "myenv",
   "language": "python",
   "name": "python3"
  },
  "language_info": {
   "codemirror_mode": {
    "name": "ipython",
    "version": 3
   },
   "file_extension": ".py",
   "mimetype": "text/x-python",
   "name": "python",
   "nbconvert_exporter": "python",
   "pygments_lexer": "ipython3",
   "version": "3.9.18"
  }
 },
 "nbformat": 4,
 "nbformat_minor": 2
}
